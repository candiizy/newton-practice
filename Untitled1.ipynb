{
 "cells": [
  {
   "cell_type": "code",
   "execution_count": 1,
   "id": "41770a47-4a27-4c33-a166-fb0875532330",
   "metadata": {},
   "outputs": [],
   "source": [
    "import numpy as np\n",
    "import newton"
   ]
  },
  {
   "cell_type": "code",
   "execution_count": 3,
   "id": "b4067d77-ec28-4a15-b346-671cc5cf89cd",
   "metadata": {},
   "outputs": [
    {
     "data": {
      "text/plain": [
       "{'x': np.float64(3.1439666284492898), 'value': np.float64(-0.9999971821230067)}"
      ]
     },
     "execution_count": 3,
     "metadata": {},
     "output_type": "execute_result"
    }
   ],
   "source": [
    "newton.optimize(2.95, np.cos)"
   ]
  },
  {
   "cell_type": "code",
   "execution_count": null,
   "id": "ceffcd40-4e62-47aa-9089-5139bba0375a",
   "metadata": {},
   "outputs": [],
   "source": []
  },
  {
   "cell_type": "code",
   "execution_count": null,
   "id": "2e4334d8-f5a5-4109-a80c-2a54bd903397",
   "metadata": {},
   "outputs": [],
   "source": []
  }
 ],
 "metadata": {
  "kernelspec": {
   "display_name": "Python 3 (ipykernel)",
   "language": "python",
   "name": "python3"
  },
  "language_info": {
   "codemirror_mode": {
    "name": "ipython",
    "version": 3
   },
   "file_extension": ".py",
   "mimetype": "text/x-python",
   "name": "python",
   "nbconvert_exporter": "python",
   "pygments_lexer": "ipython3",
   "version": "3.11.13"
  }
 },
 "nbformat": 4,
 "nbformat_minor": 5
}
